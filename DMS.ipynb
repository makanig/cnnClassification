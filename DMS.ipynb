{
  "nbformat": 4,
  "nbformat_minor": 0,
  "metadata": {
    "colab": {
      "name": "DMS.ipynb",
      "provenance": [],
      "include_colab_link": true
    },
    "kernelspec": {
      "name": "python3",
      "display_name": "Python 3"
    }
  },
  "cells": [
    {
      "cell_type": "markdown",
      "metadata": {
        "id": "view-in-github",
        "colab_type": "text"
      },
      "source": [
        "<a href=\"https://colab.research.google.com/github/makanig/cnnClassification/blob/main/DMS.ipynb\" target=\"_parent\"><img src=\"https://colab.research.google.com/assets/colab-badge.svg\" alt=\"Open In Colab\"/></a>"
      ]
    },
    {
      "cell_type": "code",
      "metadata": {
        "colab": {
          "base_uri": "https://localhost:8080/"
        },
        "id": "DAzjID6H2Kcl",
        "outputId": "126d2e3c-205e-4f39-ad25-663ab6ec6d25"
      },
      "source": [
        "from google.colab import drive\n",
        "drive.mount('/content/drive')"
      ],
      "execution_count": null,
      "outputs": [
        {
          "output_type": "stream",
          "text": [
            "Drive already mounted at /content/drive; to attempt to forcibly remount, call drive.mount(\"/content/drive\", force_remount=True).\n"
          ],
          "name": "stdout"
        }
      ]
    },
    {
      "cell_type": "code",
      "metadata": {
        "id": "tVcssRBcvR4e"
      },
      "source": [
        ""
      ],
      "execution_count": null,
      "outputs": []
    },
    {
      "cell_type": "code",
      "metadata": {
        "colab": {
          "base_uri": "https://localhost:8080/"
        },
        "id": "Om1AbcERvR8j",
        "outputId": "8968efbe-5499-4e31-95f6-92b70864066c"
      },
      "source": [
        "!pip install --upgrade scikit-image\n",
        "!apt-get -qq install -y libsm6 libxext6 \n",
        "!pip install -q -U opencv-python\n"
      ],
      "execution_count": null,
      "outputs": [
        {
          "output_type": "stream",
          "text": [
            "Collecting scikit-image\n",
            "\u001b[?25l  Downloading https://files.pythonhosted.org/packages/0e/ba/53e1bfbdfd0f94514d71502e3acea494a8b4b57c457adbc333ef386485da/scikit_image-0.17.2-cp36-cp36m-manylinux1_x86_64.whl (12.4MB)\n",
            "\u001b[K     |████████████████████████████████| 12.4MB 5.4MB/s \n",
            "\u001b[?25hRequirement already satisfied, skipping upgrade: numpy>=1.15.1 in /usr/local/lib/python3.6/dist-packages (from scikit-image) (1.18.5)\n",
            "Requirement already satisfied, skipping upgrade: networkx>=2.0 in /usr/local/lib/python3.6/dist-packages (from scikit-image) (2.5)\n",
            "Requirement already satisfied, skipping upgrade: imageio>=2.3.0 in /usr/local/lib/python3.6/dist-packages (from scikit-image) (2.4.1)\n",
            "Requirement already satisfied, skipping upgrade: PyWavelets>=1.1.1 in /usr/local/lib/python3.6/dist-packages (from scikit-image) (1.1.1)\n",
            "Requirement already satisfied, skipping upgrade: scipy>=1.0.1 in /usr/local/lib/python3.6/dist-packages (from scikit-image) (1.4.1)\n",
            "Requirement already satisfied, skipping upgrade: matplotlib!=3.0.0,>=2.0.0 in /usr/local/lib/python3.6/dist-packages (from scikit-image) (3.2.2)\n",
            "Requirement already satisfied, skipping upgrade: tifffile>=2019.7.26 in /usr/local/lib/python3.6/dist-packages (from scikit-image) (2020.9.3)\n",
            "Requirement already satisfied, skipping upgrade: pillow!=7.1.0,!=7.1.1,>=4.3.0 in /usr/local/lib/python3.6/dist-packages (from scikit-image) (7.0.0)\n",
            "Requirement already satisfied, skipping upgrade: decorator>=4.3.0 in /usr/local/lib/python3.6/dist-packages (from networkx>=2.0->scikit-image) (4.4.2)\n",
            "Requirement already satisfied, skipping upgrade: python-dateutil>=2.1 in /usr/local/lib/python3.6/dist-packages (from matplotlib!=3.0.0,>=2.0.0->scikit-image) (2.8.1)\n",
            "Requirement already satisfied, skipping upgrade: cycler>=0.10 in /usr/local/lib/python3.6/dist-packages (from matplotlib!=3.0.0,>=2.0.0->scikit-image) (0.10.0)\n",
            "Requirement already satisfied, skipping upgrade: pyparsing!=2.0.4,!=2.1.2,!=2.1.6,>=2.0.1 in /usr/local/lib/python3.6/dist-packages (from matplotlib!=3.0.0,>=2.0.0->scikit-image) (2.4.7)\n",
            "Requirement already satisfied, skipping upgrade: kiwisolver>=1.0.1 in /usr/local/lib/python3.6/dist-packages (from matplotlib!=3.0.0,>=2.0.0->scikit-image) (1.3.1)\n",
            "Requirement already satisfied, skipping upgrade: six>=1.5 in /usr/local/lib/python3.6/dist-packages (from python-dateutil>=2.1->matplotlib!=3.0.0,>=2.0.0->scikit-image) (1.15.0)\n",
            "\u001b[31mERROR: albumentations 0.1.12 has requirement imgaug<0.2.7,>=0.2.5, but you'll have imgaug 0.2.9 which is incompatible.\u001b[0m\n",
            "Installing collected packages: scikit-image\n",
            "  Found existing installation: scikit-image 0.16.2\n",
            "    Uninstalling scikit-image-0.16.2:\n",
            "      Successfully uninstalled scikit-image-0.16.2\n",
            "Successfully installed scikit-image-0.17.2\n",
            "\u001b[K     |████████████████████████████████| 49.5MB 69kB/s \n",
            "\u001b[31mERROR: albumentations 0.1.12 has requirement imgaug<0.2.7,>=0.2.5, but you'll have imgaug 0.2.9 which is incompatible.\u001b[0m\n",
            "\u001b[?25h"
          ],
          "name": "stdout"
        }
      ]
    },
    {
      "cell_type": "code",
      "metadata": {
        "id": "2VGZs46OvSA5"
      },
      "source": [
        "\n",
        "import numpy as np \n",
        "import matplotlib.pyplot as plt\n",
        "from matplotlib import image as mp_image\n",
        "import seaborn as sns\n",
        "%matplotlib inline\n",
        "import pandas as pd\n",
        "import os"
      ],
      "execution_count": null,
      "outputs": []
    },
    {
      "cell_type": "code",
      "metadata": {
        "id": "5C-8R9znnDTu"
      },
      "source": [
        ""
      ],
      "execution_count": null,
      "outputs": []
    },
    {
      "cell_type": "code",
      "metadata": {
        "id": "MTT3ftXwvSEn"
      },
      "source": [
        "from PIL import Image\n",
        "\n",
        "# function to resize image\n",
        "def resize_image(src_image, size=(128,128), bg_color=\"white\"): \n",
        "    from PIL import Image, ImageOps \n",
        "    \n",
        "    # resize the image so the longest dimension matches our target size\n",
        "    src_image.thumbnail(size, Image.ANTIALIAS)\n",
        "    \n",
        "    # Create a new square background image\n",
        "    new_image = Image.new(\"RGB\", size, bg_color)\n",
        "    \n",
        "    # Paste the resized image into the center of the square background\n",
        "    new_image.paste(src_image, (int((size[0] - src_image.size[0]) / 2), int((size[1] - src_image.size[1]) / 2)))\n",
        "  \n",
        "    # return the resized image\n",
        "    return new_image"
      ],
      "execution_count": null,
      "outputs": []
    },
    {
      "cell_type": "code",
      "metadata": {
        "colab": {
          "base_uri": "https://localhost:8080/"
        },
        "id": "L39tZlTvvSH1",
        "outputId": "3bd1f0e3-e6b9-40f0-98b6-9ee1c6d61eaf"
      },
      "source": [
        "training_folder_name = '/content/drive/MyDrive/Altemetrik/DMS/Raw'\n",
        "\n",
        "# New location for the resized images\n",
        "train_folder = '/content/drive/MyDrive/Altemetrik/DMS/Training'\n",
        "\n",
        "\n",
        "# Create resized copies of all of the source images\n",
        "size = (128,128)\n",
        "\n",
        "\n",
        "# Loop through each subfolder in the input folder\n",
        "print('Transforming images...')\n",
        "for root, folders, files in os.walk(training_folder_name):\n",
        "    for sub_folder in folders:\n",
        "        print('processing folder ' + sub_folder)\n",
        "        # Create a matching subfolder in the output dir\n",
        "        saveFolder = os.path.join(train_folder,sub_folder)\n",
        "        if not os.path.exists(saveFolder):\n",
        "            os.makedirs(saveFolder)\n",
        "        # Loop through the files in the subfolder\n",
        "        file_names = os.listdir(os.path.join(root,sub_folder))\n",
        "        for file_name in file_names:\n",
        " \n",
        "            file_path = os.path.join(root,sub_folder, file_name)\n",
        "  \n",
        "            image = Image.open(file_path)\n",
        "       \n",
        "            resized_image = resize_image(image, size)\n",
        "            saveAs = os.path.join(saveFolder, file_name)\n",
        "       \n",
        "            resized_image.save(saveAs)\n",
        "\n",
        "print('Done.')"
      ],
      "execution_count": null,
      "outputs": [
        {
          "output_type": "stream",
          "text": [
            "Transforming images...\n",
            "processing folder Electricity Bill\n",
            "processing folder DL\n",
            "processing folder Passport\n",
            "Done.\n"
          ],
          "name": "stdout"
        }
      ]
    },
    {
      "cell_type": "code",
      "metadata": {
        "colab": {
          "base_uri": "https://localhost:8080/"
        },
        "id": "6yxHVDSmXB9g",
        "outputId": "36e52a0e-5126-4c87-a159-65d66fe15611"
      },
      "source": [
        "classes = sorted(os.listdir(training_folder_name))\n",
        "print(classes)"
      ],
      "execution_count": null,
      "outputs": [
        {
          "output_type": "stream",
          "text": [
            "['DL', 'Electricity Bill', 'Passport']\n"
          ],
          "name": "stdout"
        }
      ]
    },
    {
      "cell_type": "code",
      "metadata": {
        "id": "Iam9P-27XCDs"
      },
      "source": [
        ""
      ],
      "execution_count": null,
      "outputs": []
    },
    {
      "cell_type": "code",
      "metadata": {
        "colab": {
          "base_uri": "https://localhost:8080/"
        },
        "id": "4roOvpweXCGa",
        "outputId": "8c099534-2b55-44d0-e6d8-79679d5e7088"
      },
      "source": [
        "# Import PyTorch libraries\n",
        "import torch\n",
        "import torchvision\n",
        "import torchvision.transforms as transforms\n",
        "import torch.nn as nn\n",
        "import torch.optim as optim\n",
        "import torch.nn.functional as F\n",
        "\n",
        "print(\"Libraries imported - ready to use PyTorch\", torch.__version__)"
      ],
      "execution_count": null,
      "outputs": [
        {
          "output_type": "stream",
          "text": [
            "Libraries imported - ready to use PyTorch 1.7.0+cu101\n"
          ],
          "name": "stdout"
        }
      ]
    },
    {
      "cell_type": "code",
      "metadata": {
        "id": "U92yDSoAXCJF"
      },
      "source": [
        "def load_dataset(data_path):\n",
        "    transformation = transforms.Compose([\n",
        "        # Randomly augment the image data\n",
        "            # Random horizontal flip\n",
        "        transforms.RandomHorizontalFlip(0.5),\n",
        "            # Random vertical flip\n",
        "        transforms.RandomVerticalFlip(0.3),\n",
        "        # transform to tensors\n",
        "        transforms.ToTensor(),\n",
        "        # Normalize the pixel values (in R, G, and B channels)\n",
        "        transforms.Normalize(mean=[0.5, 0.5, 0.5], std=[0.5, 0.5, 0.5])\n",
        "    ])\n",
        "\n",
        "    # Load all of the images, transforming them\n",
        "    full_dataset = torchvision.datasets.ImageFolder(\n",
        "        root=data_path,\n",
        "        transform=transformation\n",
        "    )\n",
        "    \n",
        "    \n",
        "    # Split into training (75% and testing (25%) datasets)\n",
        "    train_size = int(0.75 * len(full_dataset))\n",
        "    test_size = len(full_dataset) - train_size\n",
        "    \n",
        "    # use torch.utils.data.random_split for training/test split\n",
        "    train_dataset, test_dataset = torch.utils.data.random_split(full_dataset, [train_size, test_size])\n",
        "    \n",
        "    # define a loader for the training data we can iterate through in 10-image batches\n",
        "    train_loader = torch.utils.data.DataLoader(\n",
        "        train_dataset,\n",
        "        batch_size=10,\n",
        "        num_workers=0,\n",
        "        shuffle=False\n",
        "    )\n",
        "    \n",
        "    # define a loader for the testing data we can iterate through in 10-image batches\n",
        "    test_loader = torch.utils.data.DataLoader(\n",
        "        test_dataset,\n",
        "        batch_size=10,\n",
        "        num_workers=0,\n",
        "        shuffle=False\n",
        "    )\n",
        "        \n",
        "    return train_loader, test_loader\n",
        "\n",
        "\n"
      ],
      "execution_count": null,
      "outputs": []
    },
    {
      "cell_type": "code",
      "metadata": {
        "colab": {
          "base_uri": "https://localhost:8080/"
        },
        "id": "j34rsH9KXCL8",
        "outputId": "847ee1f2-517d-4504-a5be-6cbc988df024"
      },
      "source": [
        "# Get the iterative dataloaders for test and training data\n",
        "train_loader, test_loader = load_dataset(train_folder)\n",
        "batch_size = train_loader.batch_size\n",
        "print(\"Data loaders ready to read\", train_folder)"
      ],
      "execution_count": null,
      "outputs": [
        {
          "output_type": "stream",
          "text": [
            "Data loaders ready to read /content/drive/MyDrive/Altemetrik/DMS/Training\n"
          ],
          "name": "stdout"
        }
      ]
    },
    {
      "cell_type": "code",
      "metadata": {
        "colab": {
          "base_uri": "https://localhost:8080/"
        },
        "id": "parixfpgXCO7",
        "outputId": "ce332f6a-a9f3-49f3-e1ac-e4fa572beaa2"
      },
      "source": [
        "class Net(nn.Module):\n",
        "    # Defining the Constructor\n",
        "    def __init__(self, num_classes=3):\n",
        "        super(Net, self).__init__()\n",
        "        \n",
        "        # In the init function, we define each layer we will use in our model\n",
        "        \n",
        "        # Our images are RGB, so we have input channels = 3. \n",
        "        # We will apply 12 filters in the first convolutional layer\n",
        "        self.conv1 = nn.Conv2d(in_channels=3, out_channels=12, kernel_size=3, stride=1, padding=1)\n",
        "        \n",
        "        # A second convolutional layer takes 12 input channels, and generates 24 outputs\n",
        "        self.conv2 = nn.Conv2d(in_channels=12, out_channels=24, kernel_size=3, stride=1, padding=1)\n",
        "        \n",
        "        # We in the end apply max pooling with a kernel size of 2\n",
        "        self.pool = nn.MaxPool2d(kernel_size=2)\n",
        "        \n",
        "        # A drop layer deletes 20% of the features to help prevent overfitting\n",
        "        self.drop = nn.Dropout2d(p=0.2)\n",
        "        \n",
        "        # Our 128x128 image tensors will be pooled twice with a kernel size of 2. 128/2/2 is 32.\n",
        "        # This means that our feature tensors are now 32 x 32, and we've generated 24 of them\n",
        "        \n",
        "        # We need to flatten these in order to feed them to a fully-connected layer\n",
        "        self.fc = nn.Linear(in_features=32 * 32 * 24, out_features=num_classes)\n",
        "\n",
        "    def forward(self, x):\n",
        "        # In the forward function, pass the data through the layers we defined in the init function\n",
        "        \n",
        "        # Use a ReLU activation function after layer 1 (convolution 1 and pool)\n",
        "        x = F.relu(self.pool(self.conv1(x))) \n",
        "        \n",
        "        # Use a ReLU activation function after layer 2\n",
        "        x = F.relu(self.pool(self.conv2(x)))  \n",
        "        \n",
        "        # Select some features to drop to prevent overfitting (only drop during training)\n",
        "        x = F.dropout(self.drop(x), training=self.training)\n",
        "        \n",
        "        # Flatten\n",
        "        x = x.view(-1, 32 * 32 * 24)\n",
        "        # Feed to fully-connected layer to predict class\n",
        "        x = self.fc(x)\n",
        "        # Return class probabilities via a log_softmax function \n",
        "        return torch.log_softmax(x, dim=1)\n",
        "    \n",
        "device = \"cpu\"\n",
        "if (torch.cuda.is_available()):\n",
        "    # if GPU available, use cuda (on a cpu, training will take a considerable length of time!)\n",
        "    device = \"cuda\"\n",
        "\n",
        "# Create an instance of the model class and allocate it to the device\n",
        "model = Net(num_classes=len(classes)).to(device)\n",
        "\n",
        "print(model)"
      ],
      "execution_count": null,
      "outputs": [
        {
          "output_type": "stream",
          "text": [
            "Net(\n",
            "  (conv1): Conv2d(3, 12, kernel_size=(3, 3), stride=(1, 1), padding=(1, 1))\n",
            "  (conv2): Conv2d(12, 24, kernel_size=(3, 3), stride=(1, 1), padding=(1, 1))\n",
            "  (pool): MaxPool2d(kernel_size=2, stride=2, padding=0, dilation=1, ceil_mode=False)\n",
            "  (drop): Dropout2d(p=0.2, inplace=False)\n",
            "  (fc): Linear(in_features=24576, out_features=3, bias=True)\n",
            ")\n"
          ],
          "name": "stdout"
        }
      ]
    },
    {
      "cell_type": "code",
      "metadata": {
        "id": "lzqNy5Pjqype"
      },
      "source": [
        "def train(model, device, train_loader, optimizer, epoch):\n",
        " \n",
        "    model.train()\n",
        "    train_loss = 0\n",
        "    print(\"Epoch:\", epoch)\n",
        "   \n",
        "    for batch_idx, (data, target) in enumerate(train_loader):\n",
        "        data, target = data.to(device), target.to(device)\n",
        "  \n",
        "        optimizer.zero_grad()\n",
        "        \n",
        "        output = model(data)\n",
        "        \n",
        "        # loss\n",
        "        loss = loss_criteria(output, target)\n",
        "\n",
        "        # Keep a running total\n",
        "        train_loss += loss.item()\n",
        "        \n",
        "        loss.backward()\n",
        "        optimizer.step()\n",
        "        \n",
        "        print('\\tTraining batch {} Loss: {:.6f}'.format(batch_idx + 1, loss.item()))\n",
        "            \n",
        "    # return average loss for the epoch\n",
        "    avg_loss = train_loss / (batch_idx+1)\n",
        "    print('Training set: Average loss: {:.6f}'.format(avg_loss))\n",
        "    return avg_loss"
      ],
      "execution_count": null,
      "outputs": []
    },
    {
      "cell_type": "code",
      "metadata": {
        "id": "rvDZZULpfGsu"
      },
      "source": [
        ""
      ],
      "execution_count": null,
      "outputs": []
    },
    {
      "cell_type": "code",
      "metadata": {
        "id": "1oPoQ8dErfJY"
      },
      "source": [
        "def test(model, device, test_loader):\n",
        "    # Switch the model to evaluation mode (so we don't backpropagate or drop)\n",
        "    model.eval()\n",
        "    test_loss = 0\n",
        "    correct = 0\n",
        "    with torch.no_grad():\n",
        "        batch_count = 0\n",
        "        for data, target in test_loader:\n",
        "            batch_count += 1\n",
        "            data, target = data.to(device), target.to(device)\n",
        "            \n",
        "            output = model(data)\n",
        "            \n",
        "            test_loss += loss_criteria(output, target).item()\n",
        "            \n",
        "            # Calculate the accuracy for this batch\n",
        "            _, predicted = torch.max(output.data, 1)\n",
        "            correct += torch.sum(target==predicted).item()\n",
        "\n",
        "    # Calculate the average loss and total accuracy for this epoch\n",
        "    avg_loss = test_loss / batch_count\n",
        "    print('Validation set: Average loss: {:.6f}, Accuracy: {}/{} ({:.0f}%)\\n'.format(\n",
        "        avg_loss, correct, len(test_loader.dataset),\n",
        "        100. * correct / len(test_loader.dataset)))\n",
        "    \n",
        "    # return average loss for the epoch\n",
        "    return avg_loss"
      ],
      "execution_count": null,
      "outputs": []
    },
    {
      "cell_type": "code",
      "metadata": {
        "colab": {
          "base_uri": "https://localhost:8080/"
        },
        "id": "2DvXMEiQro5-",
        "outputId": "94bce1e8-e77d-44c7-f3fd-88be0ad357f4"
      },
      "source": [
        "# Use an \"Adam\" optimizer to adjust weights\n",
        "optimizer = optim.Adam(model.parameters(), lr=0.01)\n",
        "\n",
        "# Specify the loss criteria\n",
        "loss_criteria = nn.CrossEntropyLoss()\n",
        "\n",
        "# Track metrics in these arrays\n",
        "epoch_nums = []\n",
        "training_loss = []\n",
        "validation_loss = []\n",
        "\n",
        "epochs = 90\n",
        "print('Training on', device)\n",
        "for epoch in range(1, epochs + 1):\n",
        "        train_loss = train(model, device, train_loader, optimizer, epoch)\n",
        "        test_loss = test(model, device, test_loader)\n",
        "        epoch_nums.append(epoch)\n",
        "        training_loss.append(train_loss)\n",
        "        validation_loss.append(test_loss)"
      ],
      "execution_count": null,
      "outputs": [
        {
          "output_type": "stream",
          "text": [
            "Training on cpu\n",
            "Epoch: 1\n",
            "\tTraining batch 1 Loss: 1.135238\n",
            "\tTraining batch 2 Loss: 6.500983\n",
            "\tTraining batch 3 Loss: 0.876404\n",
            "Training set: Average loss: 2.837542\n",
            "Validation set: Average loss: 1.406992, Accuracy: 4/8 (50%)\n",
            "\n",
            "Epoch: 2\n",
            "\tTraining batch 1 Loss: 1.884001\n",
            "\tTraining batch 2 Loss: 0.779567\n",
            "\tTraining batch 3 Loss: 0.996710\n",
            "Training set: Average loss: 1.220093\n",
            "Validation set: Average loss: 1.044048, Accuracy: 3/8 (38%)\n",
            "\n",
            "Epoch: 3\n",
            "\tTraining batch 1 Loss: 0.799191\n",
            "\tTraining batch 2 Loss: 0.642189\n",
            "\tTraining batch 3 Loss: 0.602640\n",
            "Training set: Average loss: 0.681340\n",
            "Validation set: Average loss: 0.846654, Accuracy: 5/8 (62%)\n",
            "\n",
            "Epoch: 4\n",
            "\tTraining batch 1 Loss: 0.507524\n",
            "\tTraining batch 2 Loss: 1.187573\n",
            "\tTraining batch 3 Loss: 0.599328\n",
            "Training set: Average loss: 0.764809\n",
            "Validation set: Average loss: 1.234500, Accuracy: 3/8 (38%)\n",
            "\n",
            "Epoch: 5\n",
            "\tTraining batch 1 Loss: 0.331759\n",
            "\tTraining batch 2 Loss: 0.670639\n",
            "\tTraining batch 3 Loss: 0.546243\n",
            "Training set: Average loss: 0.516213\n",
            "Validation set: Average loss: 1.462101, Accuracy: 6/8 (75%)\n",
            "\n",
            "Epoch: 6\n",
            "\tTraining batch 1 Loss: 0.234469\n",
            "\tTraining batch 2 Loss: 1.215605\n",
            "\tTraining batch 3 Loss: 0.002799\n",
            "Training set: Average loss: 0.484291\n",
            "Validation set: Average loss: 1.263380, Accuracy: 6/8 (75%)\n",
            "\n",
            "Epoch: 7\n",
            "\tTraining batch 1 Loss: 0.179056\n",
            "\tTraining batch 2 Loss: 0.558113\n",
            "\tTraining batch 3 Loss: 0.113444\n",
            "Training set: Average loss: 0.283538\n",
            "Validation set: Average loss: 0.708283, Accuracy: 7/8 (88%)\n",
            "\n",
            "Epoch: 8\n",
            "\tTraining batch 1 Loss: 0.078039\n",
            "\tTraining batch 2 Loss: 0.621717\n",
            "\tTraining batch 3 Loss: 0.198355\n",
            "Training set: Average loss: 0.299370\n",
            "Validation set: Average loss: 0.564130, Accuracy: 6/8 (75%)\n",
            "\n",
            "Epoch: 9\n",
            "\tTraining batch 1 Loss: 0.289941\n",
            "\tTraining batch 2 Loss: 0.424778\n",
            "\tTraining batch 3 Loss: 0.125382\n",
            "Training set: Average loss: 0.280034\n",
            "Validation set: Average loss: 0.493951, Accuracy: 7/8 (88%)\n",
            "\n",
            "Epoch: 10\n",
            "\tTraining batch 1 Loss: 0.409430\n",
            "\tTraining batch 2 Loss: 0.510205\n",
            "\tTraining batch 3 Loss: 0.137884\n",
            "Training set: Average loss: 0.352507\n",
            "Validation set: Average loss: 0.283852, Accuracy: 7/8 (88%)\n",
            "\n",
            "Epoch: 11\n",
            "\tTraining batch 1 Loss: 0.181263\n",
            "\tTraining batch 2 Loss: 0.457262\n",
            "\tTraining batch 3 Loss: 0.064179\n",
            "Training set: Average loss: 0.234235\n",
            "Validation set: Average loss: 1.021793, Accuracy: 7/8 (88%)\n",
            "\n",
            "Epoch: 12\n",
            "\tTraining batch 1 Loss: 0.212701\n",
            "\tTraining batch 2 Loss: 0.119051\n",
            "\tTraining batch 3 Loss: 0.395393\n",
            "Training set: Average loss: 0.242382\n",
            "Validation set: Average loss: 1.511069, Accuracy: 6/8 (75%)\n",
            "\n",
            "Epoch: 13\n",
            "\tTraining batch 1 Loss: 0.020690\n",
            "\tTraining batch 2 Loss: 0.093845\n",
            "\tTraining batch 3 Loss: 0.305285\n",
            "Training set: Average loss: 0.139940\n",
            "Validation set: Average loss: 2.110122, Accuracy: 7/8 (88%)\n",
            "\n",
            "Epoch: 14\n",
            "\tTraining batch 1 Loss: 0.030933\n",
            "\tTraining batch 2 Loss: 0.231357\n",
            "\tTraining batch 3 Loss: 0.022464\n",
            "Training set: Average loss: 0.094918\n",
            "Validation set: Average loss: 0.759804, Accuracy: 5/8 (62%)\n",
            "\n",
            "Epoch: 15\n",
            "\tTraining batch 1 Loss: 0.019077\n",
            "\tTraining batch 2 Loss: 0.119087\n",
            "\tTraining batch 3 Loss: 0.207255\n",
            "Training set: Average loss: 0.115140\n",
            "Validation set: Average loss: 3.189775, Accuracy: 6/8 (75%)\n",
            "\n",
            "Epoch: 16\n",
            "\tTraining batch 1 Loss: 0.032185\n",
            "\tTraining batch 2 Loss: 0.213510\n",
            "\tTraining batch 3 Loss: 0.015713\n",
            "Training set: Average loss: 0.087136\n",
            "Validation set: Average loss: 4.854767, Accuracy: 6/8 (75%)\n",
            "\n",
            "Epoch: 17\n",
            "\tTraining batch 1 Loss: 0.431895\n",
            "\tTraining batch 2 Loss: 0.059123\n",
            "\tTraining batch 3 Loss: 0.125307\n",
            "Training set: Average loss: 0.205442\n",
            "Validation set: Average loss: 3.428470, Accuracy: 5/8 (62%)\n",
            "\n",
            "Epoch: 18\n",
            "\tTraining batch 1 Loss: 0.000049\n",
            "\tTraining batch 2 Loss: 0.093873\n",
            "\tTraining batch 3 Loss: 0.000756\n",
            "Training set: Average loss: 0.031559\n",
            "Validation set: Average loss: 6.094979, Accuracy: 5/8 (62%)\n",
            "\n",
            "Epoch: 19\n",
            "\tTraining batch 1 Loss: 0.001095\n",
            "\tTraining batch 2 Loss: 0.095551\n",
            "\tTraining batch 3 Loss: 0.000029\n",
            "Training set: Average loss: 0.032225\n",
            "Validation set: Average loss: 5.160995, Accuracy: 5/8 (62%)\n",
            "\n",
            "Epoch: 20\n",
            "\tTraining batch 1 Loss: 0.001215\n",
            "\tTraining batch 2 Loss: 0.047167\n",
            "\tTraining batch 3 Loss: 0.000008\n",
            "Training set: Average loss: 0.016130\n",
            "Validation set: Average loss: 7.115665, Accuracy: 7/8 (88%)\n",
            "\n",
            "Epoch: 21\n",
            "\tTraining batch 1 Loss: 0.018962\n",
            "\tTraining batch 2 Loss: 0.219817\n",
            "\tTraining batch 3 Loss: 0.007088\n",
            "Training set: Average loss: 0.081956\n",
            "Validation set: Average loss: 7.311071, Accuracy: 6/8 (75%)\n",
            "\n",
            "Epoch: 22\n",
            "\tTraining batch 1 Loss: 0.000390\n",
            "\tTraining batch 2 Loss: 0.008199\n",
            "\tTraining batch 3 Loss: 0.006677\n",
            "Training set: Average loss: 0.005089\n",
            "Validation set: Average loss: 8.719504, Accuracy: 6/8 (75%)\n",
            "\n",
            "Epoch: 23\n",
            "\tTraining batch 1 Loss: 0.000033\n",
            "\tTraining batch 2 Loss: 0.233958\n",
            "\tTraining batch 3 Loss: 0.000103\n",
            "Training set: Average loss: 0.078031\n",
            "Validation set: Average loss: 12.286496, Accuracy: 7/8 (88%)\n",
            "\n",
            "Epoch: 24\n",
            "\tTraining batch 1 Loss: 0.000113\n",
            "\tTraining batch 2 Loss: 0.012147\n",
            "\tTraining batch 3 Loss: 0.001543\n",
            "Training set: Average loss: 0.004601\n",
            "Validation set: Average loss: 14.583006, Accuracy: 7/8 (88%)\n",
            "\n",
            "Epoch: 25\n",
            "\tTraining batch 1 Loss: 0.000004\n",
            "\tTraining batch 2 Loss: 0.017668\n",
            "\tTraining batch 3 Loss: 4.285106\n",
            "Training set: Average loss: 1.434259\n",
            "Validation set: Average loss: 11.609409, Accuracy: 7/8 (88%)\n",
            "\n",
            "Epoch: 26\n",
            "\tTraining batch 1 Loss: 0.000002\n",
            "\tTraining batch 2 Loss: 0.015434\n",
            "\tTraining batch 3 Loss: 0.529031\n",
            "Training set: Average loss: 0.181489\n",
            "Validation set: Average loss: 14.090424, Accuracy: 3/8 (38%)\n",
            "\n",
            "Epoch: 27\n",
            "\tTraining batch 1 Loss: 6.113715\n",
            "\tTraining batch 2 Loss: 3.098963\n",
            "\tTraining batch 3 Loss: 0.000000\n",
            "Training set: Average loss: 3.070893\n",
            "Validation set: Average loss: 2.700541, Accuracy: 7/8 (88%)\n",
            "\n",
            "Epoch: 28\n",
            "\tTraining batch 1 Loss: 0.000193\n",
            "\tTraining batch 2 Loss: 0.428985\n",
            "\tTraining batch 3 Loss: 0.000000\n",
            "Training set: Average loss: 0.143060\n",
            "Validation set: Average loss: 6.158400, Accuracy: 5/8 (62%)\n",
            "\n",
            "Epoch: 29\n",
            "\tTraining batch 1 Loss: 0.000008\n",
            "\tTraining batch 2 Loss: 1.452468\n",
            "\tTraining batch 3 Loss: 0.004841\n",
            "Training set: Average loss: 0.485773\n",
            "Validation set: Average loss: 3.792089, Accuracy: 5/8 (62%)\n",
            "\n",
            "Epoch: 30\n",
            "\tTraining batch 1 Loss: 0.000009\n",
            "\tTraining batch 2 Loss: 0.423314\n",
            "\tTraining batch 3 Loss: 0.000640\n",
            "Training set: Average loss: 0.141321\n",
            "Validation set: Average loss: 4.911419, Accuracy: 5/8 (62%)\n",
            "\n",
            "Epoch: 31\n",
            "\tTraining batch 1 Loss: 0.000138\n",
            "\tTraining batch 2 Loss: 0.021096\n",
            "\tTraining batch 3 Loss: 0.000017\n",
            "Training set: Average loss: 0.007083\n",
            "Validation set: Average loss: 9.256344, Accuracy: 4/8 (50%)\n",
            "\n",
            "Epoch: 32\n",
            "\tTraining batch 1 Loss: 0.000958\n",
            "\tTraining batch 2 Loss: 0.020028\n",
            "\tTraining batch 3 Loss: 0.200168\n",
            "Training set: Average loss: 0.073718\n",
            "Validation set: Average loss: 6.281660, Accuracy: 5/8 (62%)\n",
            "\n",
            "Epoch: 33\n",
            "\tTraining batch 1 Loss: 0.158768\n",
            "\tTraining batch 2 Loss: 0.019848\n",
            "\tTraining batch 3 Loss: 0.005397\n",
            "Training set: Average loss: 0.061338\n",
            "Validation set: Average loss: 9.317256, Accuracy: 4/8 (50%)\n",
            "\n",
            "Epoch: 34\n",
            "\tTraining batch 1 Loss: 1.085978\n",
            "\tTraining batch 2 Loss: 0.171469\n",
            "\tTraining batch 3 Loss: 0.000012\n",
            "Training set: Average loss: 0.419153\n",
            "Validation set: Average loss: 2.110506, Accuracy: 6/8 (75%)\n",
            "\n",
            "Epoch: 35\n",
            "\tTraining batch 1 Loss: 1.317322\n",
            "\tTraining batch 2 Loss: 2.467461\n",
            "\tTraining batch 3 Loss: 0.001160\n",
            "Training set: Average loss: 1.261981\n",
            "Validation set: Average loss: 0.242387, Accuracy: 7/8 (88%)\n",
            "\n",
            "Epoch: 36\n",
            "\tTraining batch 1 Loss: 0.219349\n",
            "\tTraining batch 2 Loss: 0.004359\n",
            "\tTraining batch 3 Loss: 0.000021\n",
            "Training set: Average loss: 0.074577\n",
            "Validation set: Average loss: 2.939352, Accuracy: 6/8 (75%)\n",
            "\n",
            "Epoch: 37\n",
            "\tTraining batch 1 Loss: 0.000065\n",
            "\tTraining batch 2 Loss: 0.023833\n",
            "\tTraining batch 3 Loss: 0.000009\n",
            "Training set: Average loss: 0.007969\n",
            "Validation set: Average loss: 3.235834, Accuracy: 6/8 (75%)\n",
            "\n",
            "Epoch: 38\n",
            "\tTraining batch 1 Loss: 0.192856\n",
            "\tTraining batch 2 Loss: 0.474544\n",
            "\tTraining batch 3 Loss: 0.000364\n",
            "Training set: Average loss: 0.222588\n",
            "Validation set: Average loss: 3.798994, Accuracy: 6/8 (75%)\n",
            "\n",
            "Epoch: 39\n",
            "\tTraining batch 1 Loss: 0.146569\n",
            "\tTraining batch 2 Loss: 1.408288\n",
            "\tTraining batch 3 Loss: 0.000443\n",
            "Training set: Average loss: 0.518433\n",
            "Validation set: Average loss: 0.364303, Accuracy: 7/8 (88%)\n",
            "\n",
            "Epoch: 40\n",
            "\tTraining batch 1 Loss: 0.002742\n",
            "\tTraining batch 2 Loss: 0.000469\n",
            "\tTraining batch 3 Loss: 0.006791\n",
            "Training set: Average loss: 0.003334\n",
            "Validation set: Average loss: 3.246694, Accuracy: 5/8 (62%)\n",
            "\n",
            "Epoch: 41\n",
            "\tTraining batch 1 Loss: 0.007190\n",
            "\tTraining batch 2 Loss: 0.121591\n",
            "\tTraining batch 3 Loss: 0.000098\n",
            "Training set: Average loss: 0.042959\n",
            "Validation set: Average loss: 0.631375, Accuracy: 6/8 (75%)\n",
            "\n",
            "Epoch: 42\n",
            "\tTraining batch 1 Loss: 0.227162\n",
            "\tTraining batch 2 Loss: 0.009462\n",
            "\tTraining batch 3 Loss: 0.000000\n",
            "Training set: Average loss: 0.078875\n",
            "Validation set: Average loss: 0.262140, Accuracy: 7/8 (88%)\n",
            "\n",
            "Epoch: 43\n",
            "\tTraining batch 1 Loss: 0.007151\n",
            "\tTraining batch 2 Loss: 0.100260\n",
            "\tTraining batch 3 Loss: 0.000039\n",
            "Training set: Average loss: 0.035817\n",
            "Validation set: Average loss: 1.982894, Accuracy: 5/8 (62%)\n",
            "\n",
            "Epoch: 44\n",
            "\tTraining batch 1 Loss: 0.965981\n",
            "\tTraining batch 2 Loss: 0.007198\n",
            "\tTraining batch 3 Loss: 0.000489\n",
            "Training set: Average loss: 0.324556\n",
            "Validation set: Average loss: 3.036206, Accuracy: 5/8 (62%)\n",
            "\n",
            "Epoch: 45\n",
            "\tTraining batch 1 Loss: 0.011655\n",
            "\tTraining batch 2 Loss: 0.002520\n",
            "\tTraining batch 3 Loss: 0.000033\n",
            "Training set: Average loss: 0.004736\n",
            "Validation set: Average loss: 0.330799, Accuracy: 7/8 (88%)\n",
            "\n",
            "Epoch: 46\n",
            "\tTraining batch 1 Loss: 0.000632\n",
            "\tTraining batch 2 Loss: 0.011078\n",
            "\tTraining batch 3 Loss: 0.153802\n",
            "Training set: Average loss: 0.055171\n",
            "Validation set: Average loss: 3.672048, Accuracy: 5/8 (62%)\n",
            "\n",
            "Epoch: 47\n",
            "\tTraining batch 1 Loss: 0.016854\n",
            "\tTraining batch 2 Loss: 0.017473\n",
            "\tTraining batch 3 Loss: 0.005045\n",
            "Training set: Average loss: 0.013124\n",
            "Validation set: Average loss: 5.354573, Accuracy: 5/8 (62%)\n",
            "\n",
            "Epoch: 48\n",
            "\tTraining batch 1 Loss: 0.026975\n",
            "\tTraining batch 2 Loss: 0.001013\n",
            "\tTraining batch 3 Loss: 0.502310\n",
            "Training set: Average loss: 0.176766\n",
            "Validation set: Average loss: 1.496123, Accuracy: 5/8 (62%)\n",
            "\n",
            "Epoch: 49\n",
            "\tTraining batch 1 Loss: 0.009585\n",
            "\tTraining batch 2 Loss: 0.135878\n",
            "\tTraining batch 3 Loss: 0.000014\n",
            "Training set: Average loss: 0.048492\n",
            "Validation set: Average loss: 3.833528, Accuracy: 5/8 (62%)\n",
            "\n",
            "Epoch: 50\n",
            "\tTraining batch 1 Loss: 0.047945\n",
            "\tTraining batch 2 Loss: 0.002418\n",
            "\tTraining batch 3 Loss: 0.000031\n",
            "Training set: Average loss: 0.016798\n",
            "Validation set: Average loss: 4.757632, Accuracy: 5/8 (62%)\n",
            "\n",
            "Epoch: 51\n",
            "\tTraining batch 1 Loss: 0.002036\n",
            "\tTraining batch 2 Loss: 0.002815\n",
            "\tTraining batch 3 Loss: 0.000000\n",
            "Training set: Average loss: 0.001617\n",
            "Validation set: Average loss: 1.152502, Accuracy: 6/8 (75%)\n",
            "\n",
            "Epoch: 52\n",
            "\tTraining batch 1 Loss: 0.001262\n",
            "\tTraining batch 2 Loss: 0.082940\n",
            "\tTraining batch 3 Loss: 0.000006\n",
            "Training set: Average loss: 0.028069\n",
            "Validation set: Average loss: 4.458134, Accuracy: 5/8 (62%)\n",
            "\n",
            "Epoch: 53\n",
            "\tTraining batch 1 Loss: 0.006259\n",
            "\tTraining batch 2 Loss: 0.001930\n",
            "\tTraining batch 3 Loss: 0.001084\n",
            "Training set: Average loss: 0.003091\n",
            "Validation set: Average loss: 4.271881, Accuracy: 5/8 (62%)\n",
            "\n",
            "Epoch: 54\n",
            "\tTraining batch 1 Loss: 0.004846\n",
            "\tTraining batch 2 Loss: 0.938225\n",
            "\tTraining batch 3 Loss: 0.000000\n",
            "Training set: Average loss: 0.314357\n",
            "Validation set: Average loss: 1.192153, Accuracy: 6/8 (75%)\n",
            "\n",
            "Epoch: 55\n",
            "\tTraining batch 1 Loss: 0.001309\n",
            "\tTraining batch 2 Loss: 0.000200\n",
            "\tTraining batch 3 Loss: 0.003063\n",
            "Training set: Average loss: 0.001524\n",
            "Validation set: Average loss: 2.375970, Accuracy: 5/8 (62%)\n",
            "\n",
            "Epoch: 56\n",
            "\tTraining batch 1 Loss: 0.789325\n",
            "\tTraining batch 2 Loss: 0.000367\n",
            "\tTraining batch 3 Loss: 0.000000\n",
            "Training set: Average loss: 0.263231\n",
            "Validation set: Average loss: 2.664859, Accuracy: 5/8 (62%)\n",
            "\n",
            "Epoch: 57\n",
            "\tTraining batch 1 Loss: 0.003662\n",
            "\tTraining batch 2 Loss: 0.002357\n",
            "\tTraining batch 3 Loss: 0.000000\n",
            "Training set: Average loss: 0.002006\n",
            "Validation set: Average loss: 2.991415, Accuracy: 5/8 (62%)\n",
            "\n",
            "Epoch: 58\n",
            "\tTraining batch 1 Loss: 0.038635\n",
            "\tTraining batch 2 Loss: 0.000625\n",
            "\tTraining batch 3 Loss: 0.017308\n",
            "Training set: Average loss: 0.018856\n",
            "Validation set: Average loss: 2.126929, Accuracy: 6/8 (75%)\n",
            "\n",
            "Epoch: 59\n",
            "\tTraining batch 1 Loss: 0.000334\n",
            "\tTraining batch 2 Loss: 0.035120\n",
            "\tTraining batch 3 Loss: 0.000069\n",
            "Training set: Average loss: 0.011841\n",
            "Validation set: Average loss: 2.007049, Accuracy: 6/8 (75%)\n",
            "\n",
            "Epoch: 60\n",
            "\tTraining batch 1 Loss: 0.000459\n",
            "\tTraining batch 2 Loss: 0.081032\n",
            "\tTraining batch 3 Loss: 0.047470\n",
            "Training set: Average loss: 0.042987\n",
            "Validation set: Average loss: 2.914316, Accuracy: 5/8 (62%)\n",
            "\n",
            "Epoch: 61\n",
            "\tTraining batch 1 Loss: 0.020715\n",
            "\tTraining batch 2 Loss: 0.000287\n",
            "\tTraining batch 3 Loss: 0.001590\n",
            "Training set: Average loss: 0.007531\n",
            "Validation set: Average loss: 2.919943, Accuracy: 5/8 (62%)\n",
            "\n",
            "Epoch: 62\n",
            "\tTraining batch 1 Loss: 0.002764\n",
            "\tTraining batch 2 Loss: 0.002117\n",
            "\tTraining batch 3 Loss: 0.000019\n",
            "Training set: Average loss: 0.001634\n",
            "Validation set: Average loss: 2.989515, Accuracy: 5/8 (62%)\n",
            "\n",
            "Epoch: 63\n",
            "\tTraining batch 1 Loss: 0.000064\n",
            "\tTraining batch 2 Loss: 0.655587\n",
            "\tTraining batch 3 Loss: 0.012844\n",
            "Training set: Average loss: 0.222832\n",
            "Validation set: Average loss: 1.426283, Accuracy: 6/8 (75%)\n",
            "\n",
            "Epoch: 64\n",
            "\tTraining batch 1 Loss: 0.000975\n",
            "\tTraining batch 2 Loss: 0.000166\n",
            "\tTraining batch 3 Loss: 0.000000\n",
            "Training set: Average loss: 0.000380\n",
            "Validation set: Average loss: 0.881643, Accuracy: 6/8 (75%)\n",
            "\n",
            "Epoch: 65\n",
            "\tTraining batch 1 Loss: 0.047769\n",
            "\tTraining batch 2 Loss: 0.074995\n",
            "\tTraining batch 3 Loss: 0.000027\n",
            "Training set: Average loss: 0.040930\n",
            "Validation set: Average loss: 1.588502, Accuracy: 5/8 (62%)\n",
            "\n",
            "Epoch: 66\n",
            "\tTraining batch 1 Loss: 0.000009\n",
            "\tTraining batch 2 Loss: 0.089257\n",
            "\tTraining batch 3 Loss: 0.000008\n",
            "Training set: Average loss: 0.029758\n",
            "Validation set: Average loss: 0.415910, Accuracy: 7/8 (88%)\n",
            "\n",
            "Epoch: 67\n",
            "\tTraining batch 1 Loss: 0.000292\n",
            "\tTraining batch 2 Loss: 0.021754\n",
            "\tTraining batch 3 Loss: 0.000014\n",
            "Training set: Average loss: 0.007353\n",
            "Validation set: Average loss: 0.429139, Accuracy: 6/8 (75%)\n",
            "\n",
            "Epoch: 68\n",
            "\tTraining batch 1 Loss: 0.000190\n",
            "\tTraining batch 2 Loss: 0.000051\n",
            "\tTraining batch 3 Loss: 0.000011\n",
            "Training set: Average loss: 0.000084\n",
            "Validation set: Average loss: 0.083566, Accuracy: 8/8 (100%)\n",
            "\n",
            "Epoch: 69\n",
            "\tTraining batch 1 Loss: 0.000701\n",
            "\tTraining batch 2 Loss: 0.001520\n",
            "\tTraining batch 3 Loss: 0.000001\n",
            "Training set: Average loss: 0.000741\n",
            "Validation set: Average loss: 0.098640, Accuracy: 8/8 (100%)\n",
            "\n",
            "Epoch: 70\n",
            "\tTraining batch 1 Loss: 0.094130\n",
            "\tTraining batch 2 Loss: 0.084773\n",
            "\tTraining batch 3 Loss: 0.000915\n",
            "Training set: Average loss: 0.059939\n",
            "Validation set: Average loss: 0.081050, Accuracy: 8/8 (100%)\n",
            "\n",
            "Epoch: 71\n",
            "\tTraining batch 1 Loss: 0.006405\n",
            "\tTraining batch 2 Loss: 0.000631\n",
            "\tTraining batch 3 Loss: 0.000000\n",
            "Training set: Average loss: 0.002345\n",
            "Validation set: Average loss: 0.904224, Accuracy: 6/8 (75%)\n",
            "\n",
            "Epoch: 72\n",
            "\tTraining batch 1 Loss: 0.000002\n",
            "\tTraining batch 2 Loss: 0.000333\n",
            "\tTraining batch 3 Loss: 0.000014\n",
            "Training set: Average loss: 0.000116\n",
            "Validation set: Average loss: 0.878932, Accuracy: 7/8 (88%)\n",
            "\n",
            "Epoch: 73\n",
            "\tTraining batch 1 Loss: 0.000000\n",
            "\tTraining batch 2 Loss: 0.003818\n",
            "\tTraining batch 3 Loss: 0.000007\n",
            "Training set: Average loss: 0.001275\n",
            "Validation set: Average loss: 0.044629, Accuracy: 8/8 (100%)\n",
            "\n",
            "Epoch: 74\n",
            "\tTraining batch 1 Loss: 0.002093\n",
            "\tTraining batch 2 Loss: 0.078159\n",
            "\tTraining batch 3 Loss: 0.000000\n",
            "Training set: Average loss: 0.026751\n",
            "Validation set: Average loss: 1.055807, Accuracy: 6/8 (75%)\n",
            "\n",
            "Epoch: 75\n",
            "\tTraining batch 1 Loss: 0.000001\n",
            "\tTraining batch 2 Loss: 0.077951\n",
            "\tTraining batch 3 Loss: 0.000011\n",
            "Training set: Average loss: 0.025988\n",
            "Validation set: Average loss: 0.046876, Accuracy: 8/8 (100%)\n",
            "\n",
            "Epoch: 76\n",
            "\tTraining batch 1 Loss: 0.000899\n",
            "\tTraining batch 2 Loss: 0.077695\n",
            "\tTraining batch 3 Loss: 0.000000\n",
            "Training set: Average loss: 0.026198\n",
            "Validation set: Average loss: 1.046871, Accuracy: 7/8 (88%)\n",
            "\n",
            "Epoch: 77\n",
            "\tTraining batch 1 Loss: 0.003059\n",
            "\tTraining batch 2 Loss: 0.003257\n",
            "\tTraining batch 3 Loss: 0.000002\n",
            "Training set: Average loss: 0.002106\n",
            "Validation set: Average loss: 2.087812, Accuracy: 7/8 (88%)\n",
            "\n",
            "Epoch: 78\n",
            "\tTraining batch 1 Loss: 0.000027\n",
            "\tTraining batch 2 Loss: 0.093210\n",
            "\tTraining batch 3 Loss: 0.000124\n",
            "Training set: Average loss: 0.031120\n",
            "Validation set: Average loss: 1.102195, Accuracy: 7/8 (88%)\n",
            "\n",
            "Epoch: 79\n",
            "\tTraining batch 1 Loss: 0.000001\n",
            "\tTraining batch 2 Loss: 0.001249\n",
            "\tTraining batch 3 Loss: 0.000001\n",
            "Training set: Average loss: 0.000417\n",
            "Validation set: Average loss: 0.110924, Accuracy: 7/8 (88%)\n",
            "\n",
            "Epoch: 80\n",
            "\tTraining batch 1 Loss: 0.000165\n",
            "\tTraining batch 2 Loss: 0.076724\n",
            "\tTraining batch 3 Loss: 0.000035\n",
            "Training set: Average loss: 0.025641\n",
            "Validation set: Average loss: 1.200714, Accuracy: 7/8 (88%)\n",
            "\n",
            "Epoch: 81\n",
            "\tTraining batch 1 Loss: 0.000008\n",
            "\tTraining batch 2 Loss: 0.001209\n",
            "\tTraining batch 3 Loss: 0.043032\n",
            "Training set: Average loss: 0.014749\n",
            "Validation set: Average loss: 2.285846, Accuracy: 7/8 (88%)\n",
            "\n",
            "Epoch: 82\n",
            "\tTraining batch 1 Loss: 0.000002\n",
            "\tTraining batch 2 Loss: 0.001587\n",
            "\tTraining batch 3 Loss: 0.037611\n",
            "Training set: Average loss: 0.013067\n",
            "Validation set: Average loss: 0.058208, Accuracy: 8/8 (100%)\n",
            "\n",
            "Epoch: 83\n",
            "\tTraining batch 1 Loss: 0.015569\n",
            "\tTraining batch 2 Loss: 0.075902\n",
            "\tTraining batch 3 Loss: 0.000004\n",
            "Training set: Average loss: 0.030492\n",
            "Validation set: Average loss: 0.115424, Accuracy: 7/8 (88%)\n",
            "\n",
            "Epoch: 84\n",
            "\tTraining batch 1 Loss: 0.009773\n",
            "\tTraining batch 2 Loss: 0.003209\n",
            "\tTraining batch 3 Loss: 0.000000\n",
            "Training set: Average loss: 0.004327\n",
            "Validation set: Average loss: 0.070299, Accuracy: 8/8 (100%)\n",
            "\n",
            "Epoch: 85\n",
            "\tTraining batch 1 Loss: 0.000002\n",
            "\tTraining batch 2 Loss: 0.000398\n",
            "\tTraining batch 3 Loss: 0.000001\n",
            "Training set: Average loss: 0.000133\n",
            "Validation set: Average loss: 0.081122, Accuracy: 8/8 (100%)\n",
            "\n",
            "Epoch: 86\n",
            "\tTraining batch 1 Loss: 0.000006\n",
            "\tTraining batch 2 Loss: 0.000120\n",
            "\tTraining batch 3 Loss: 0.000000\n",
            "Training set: Average loss: 0.000042\n",
            "Validation set: Average loss: 0.199838, Accuracy: 7/8 (88%)\n",
            "\n",
            "Epoch: 87\n",
            "\tTraining batch 1 Loss: 0.001383\n",
            "\tTraining batch 2 Loss: 0.005044\n",
            "\tTraining batch 3 Loss: 0.000000\n",
            "Training set: Average loss: 0.002142\n",
            "Validation set: Average loss: 0.118789, Accuracy: 7/8 (88%)\n",
            "\n",
            "Epoch: 88\n",
            "\tTraining batch 1 Loss: 0.000000\n",
            "\tTraining batch 2 Loss: 0.000061\n",
            "\tTraining batch 3 Loss: 0.000000\n",
            "Training set: Average loss: 0.000021\n",
            "Validation set: Average loss: 1.173221, Accuracy: 7/8 (88%)\n",
            "\n",
            "Epoch: 89\n",
            "\tTraining batch 1 Loss: 0.000355\n",
            "\tTraining batch 2 Loss: 0.052287\n",
            "\tTraining batch 3 Loss: 0.000078\n",
            "Training set: Average loss: 0.017573\n",
            "Validation set: Average loss: 1.280618, Accuracy: 7/8 (88%)\n",
            "\n",
            "Epoch: 90\n",
            "\tTraining batch 1 Loss: 0.000203\n",
            "\tTraining batch 2 Loss: 0.000445\n",
            "\tTraining batch 3 Loss: 0.000929\n",
            "Training set: Average loss: 0.000525\n",
            "Validation set: Average loss: 0.099178, Accuracy: 8/8 (100%)\n",
            "\n"
          ],
          "name": "stdout"
        }
      ]
    },
    {
      "cell_type": "code",
      "metadata": {
        "colab": {
          "base_uri": "https://localhost:8080/",
          "height": 877
        },
        "id": "L-K9lKlbruS7",
        "outputId": "23bc3817-45a6-49af-98e3-0ed2b98c0f35"
      },
      "source": [
        "plt.figure(figsize=(15,15))\n",
        "plt.plot(epoch_nums, training_loss)\n",
        "plt.plot(epoch_nums, validation_loss)\n",
        "plt.xlabel('epoch')\n",
        "plt.ylabel('loss')\n",
        "plt.legend(['training', 'validation'], loc='upper right')\n",
        "plt.show()"
      ],
      "execution_count": null,
      "outputs": [
        {
          "output_type": "display_data",
          "data": {
            "image/png": "[encoded data removed]",
            "text/plain": [
              "<Figure size 1080x1080 with 1 Axes>"
            ]
          },
          "metadata": {
            "tags": [],
            "needs_background": "light"
          }
        }
      ]
    },
    {
      "cell_type": "code",
      "metadata": {
        "colab": {
          "base_uri": "https://localhost:8080/",
          "height": 472
        },
        "id": "tyV59hPqsMWc",
        "outputId": "6b1ef3fa-6f96-4268-f147-fadfeb76c38d"
      },
      "source": [
        "from sklearn import metrics\n",
        "from sklearn.metrics import accuracy_score, confusion_matrix\n",
        "from sklearn.model_selection import train_test_split\n",
        "# Defining Labels and Predictions\n",
        "truelabels = []\n",
        "predictions = []\n",
        "model.eval()\n",
        "print(\"Getting predictions from test set...\")\n",
        "for data, target in test_loader:\n",
        "    for label in target.data.numpy():\n",
        "        truelabels.append(label)\n",
        "    for prediction in model(data).data.numpy().argmax(1):\n",
        "        predictions.append(prediction) \n",
        "\n",
        "# Plot the confusion matrix\n",
        "cm = confusion_matrix(truelabels, predictions)\n",
        "tick_marks = np.arange(len(classes))\n",
        "\n",
        "df_cm = pd.DataFrame(cm, index = classes, columns = classes)\n",
        "plt.figure(figsize = (7,7))\n",
        "sns.heatmap(df_cm, annot=True, cmap=plt.cm.Blues, fmt='g')\n",
        "plt.xlabel(\"Predicted Shape\", fontsize = 20)\n",
        "plt.ylabel(\"True Shape\", fontsize = 20)\n",
        "plt.show()"
      ],
      "execution_count": null,
      "outputs": [
        {
          "output_type": "stream",
          "text": [
            "Getting predictions from test set...\n"
          ],
          "name": "stdout"
        },
        {
          "output_type": "display_data",
          "data": {
            "image/png": "[encoded data removed]",
            "text/plain": [
              "<Figure size 504x504 with 2 Axes>"
            ]
          },
          "metadata": {
            "tags": [],
            "needs_background": "light"
          }
        }
      ]
    },
    {
      "cell_type": "code",
      "metadata": {
        "id": "vBlYgafGtU_H"
      },
      "source": [
        ""
      ],
      "execution_count": null,
      "outputs": []
    },
    {
      "cell_type": "code",
      "metadata": {
        "id": "WiinAxx543w9"
      },
      "source": [
        "\n",
        "from torch.autograd import Variable\n",
        "loader = transforms.Compose([\n",
        "        # Randomly augment the image data\n",
        "            # Random horizontal flip\n",
        "        transforms.RandomHorizontalFlip(0.5),\n",
        "            # Random vertical flip\n",
        "        transforms.RandomVerticalFlip(0.3),\n",
        "        # transform to tensors\n",
        "        transforms.ToTensor(),\n",
        "        # Normalize the pixel values (in R, G, and B channels)\n",
        "        transforms.Normalize(mean=[0.5, 0.5, 0.5], std=[0.5, 0.5, 0.5])\n",
        "    ])\n",
        "\n",
        "\n",
        "def image_loader(image):\n",
        "    image = loader(image).float()\n",
        "    image = Variable(image, requires_grad=True)\n",
        "    image = image.unsqueeze(0)  #this is for VGG\n",
        "    return image "
      ],
      "execution_count": null,
      "outputs": []
    },
    {
      "cell_type": "code",
      "metadata": {
        "colab": {
          "base_uri": "https://localhost:8080/"
        },
        "id": "N2JCcndTrfWo",
        "outputId": "2a58baba-4889-4948-c000-55ca15ba6b55"
      },
      "source": [
        "model(image_loader(inp))\n",
        "#the model predicts class 3 as other values are negative."
      ],
      "execution_count": null,
      "outputs": [
        {
          "output_type": "execute_result",
          "data": {
            "text/plain": [
              "tensor([[-30.2806, -33.7673,   0.0000]], grad_fn=<LogSoftmaxBackward>)"
            ]
          },
          "metadata": {
            "tags": []
          },
          "execution_count": 20
        }
      ]
    },
    {
      "cell_type": "code",
      "metadata": {
        "colab": {
          "base_uri": "https://localhost:8080/",
          "height": 35
        },
        "id": "XQajbfnrrfeL",
        "outputId": "bc6e96d9-c7c0-4863-a2b1-852384682aea"
      },
      "source": [
        "#the input image passinp.jpg is passed to the model\n",
        "rawinp = Image.open('/content/drive/MyDrive/Altemetrik/DMS/passinp.jpg')\n",
        "inp = resize_image(rawinp, size)\n",
        "classes[np.argmax(model(image_loader(inp)).detach().numpy()[0])]\n",
        "#the model classifies the image as a passport."
      ],
      "execution_count": null,
      "outputs": [
        {
          "output_type": "execute_result",
          "data": {
            "application/vnd.google.colaboratory.intrinsic+json": {
              "type": "string"
            },
            "text/plain": [
              "'Passport'"
            ]
          },
          "metadata": {
            "tags": []
          },
          "execution_count": 26
        }
      ]
    },
    {
      "cell_type": "code",
      "metadata": {
        "id": "4Pppu7fPCCJj"
      },
      "source": [
        "  "
      ],
      "execution_count": null,
      "outputs": []
    },
    {
      "cell_type": "code",
      "metadata": {
        "id": "c0BdNLJgrfi4"
      },
      "source": [
        "#Saving the model\n",
        "torch.save(model,'/content/drive/MyDrive/Altemetrik/DMS/Model/Dms_cnn.model')"
      ],
      "execution_count": null,
      "outputs": []
    },
    {
      "cell_type": "code",
      "metadata": {
        "id": "YD6BuuIiwDHv"
      },
      "source": [
        "rawinp = Image.open('/content/drive/MyDrive/Altemetrik/DMS/passinp.jpg')\n",
        "ip = resize_image(rawinp, size)"
      ],
      "execution_count": null,
      "outputs": []
    },
    {
      "cell_type": "code",
      "metadata": {
        "colab": {
          "base_uri": "https://localhost:8080/"
        },
        "id": "fMQ5-ZrkrfsN",
        "outputId": "757c64e1-87e8-4345-c08b-6469896794ec"
      },
      "source": [
        "#Loading the model\n",
        "PATH = '/content/drive/MyDrive/Altemetrik/DMS/Model/Dms_cnn.model'\n",
        "DMS_saved_model = torch.load(PATH)\n",
        "DMS_saved_model.eval()"
      ],
      "execution_count": null,
      "outputs": [
        {
          "output_type": "execute_result",
          "data": {
            "text/plain": [
              "Net(\n",
              "  (conv1): Conv2d(3, 12, kernel_size=(3, 3), stride=(1, 1), padding=(1, 1))\n",
              "  (conv2): Conv2d(12, 24, kernel_size=(3, 3), stride=(1, 1), padding=(1, 1))\n",
              "  (pool): MaxPool2d(kernel_size=2, stride=2, padding=0, dilation=1, ceil_mode=False)\n",
              "  (drop): Dropout2d(p=0.2, inplace=False)\n",
              "  (fc): Linear(in_features=24576, out_features=3, bias=True)\n",
              ")"
            ]
          },
          "metadata": {
            "tags": []
          },
          "execution_count": 28
        }
      ]
    },
    {
      "cell_type": "code",
      "metadata": {
        "colab": {
          "base_uri": "https://localhost:8080/",
          "height": 35
        },
        "id": "L9ATSl4qrf4d",
        "outputId": "fd2134d5-2035-48c3-dbb8-d9d055f8875e"
      },
      "source": [
        "classes[np.argmax(DMS_saved_model(image_loader(ip)).detach().numpy()[0])]"
      ],
      "execution_count": null,
      "outputs": [
        {
          "output_type": "execute_result",
          "data": {
            "application/vnd.google.colaboratory.intrinsic+json": {
              "type": "string"
            },
            "text/plain": [
              "'Passport'"
            ]
          },
          "metadata": {
            "tags": []
          },
          "execution_count": 40
        }
      ]
    },
    {
      "cell_type": "code",
      "metadata": {
        "id": "ZMHjLKU9rf77"
      },
      "source": [
        ""
      ],
      "execution_count": null,
      "outputs": []
    },
    {
      "cell_type": "code",
      "metadata": {
        "id": "Lgdqz9v6vzzI"
      },
      "source": [
        ""
      ],
      "execution_count": null,
      "outputs": []
    },
    {
      "cell_type": "code",
      "metadata": {
        "id": "mRbGO4HVvz3E"
      },
      "source": [
        ""
      ],
      "execution_count": null,
      "outputs": []
    },
    {
      "cell_type": "code",
      "metadata": {
        "id": "6XiQ3KXuvz6U"
      },
      "source": [
        ""
      ],
      "execution_count": null,
      "outputs": []
    },
    {
      "cell_type": "code",
      "metadata": {
        "id": "AqZGpbU_vz9F"
      },
      "source": [
        ""
      ],
      "execution_count": null,
      "outputs": []
    },
    {
      "cell_type": "code",
      "metadata": {
        "id": "VAeN61OKv0AD"
      },
      "source": [
        ""
      ],
      "execution_count": null,
      "outputs": []
    },
    {
      "cell_type": "code",
      "metadata": {
        "id": "McbY0z7Ev0CU"
      },
      "source": [
        ""
      ],
      "execution_count": null,
      "outputs": []
    },
    {
      "cell_type": "code",
      "metadata": {
        "id": "8LY5mcUWrgAi"
      },
      "source": [
        ""
      ],
      "execution_count": null,
      "outputs": []
    },
    {
      "cell_type": "code",
      "metadata": {
        "id": "_OvWVvDoXCRi"
      },
      "source": [
        ""
      ],
      "execution_count": null,
      "outputs": []
    }
  ]
}